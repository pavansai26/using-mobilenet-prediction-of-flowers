{
 "cells": [
  {
   "cell_type": "code",
   "execution_count": null,
   "metadata": {},
   "outputs": [],
   "source": [
    "#%%capture\n",
    "import keras\n",
    "import keras.backend as K\n",
    "from keras.models import Model\n",
    "from keras.layers import Input, Dense, Conv2D, Conv3D, DepthwiseConv2D, SeparableConv2D, Conv3DTranspose\n",
    "from keras.layers import Flatten, MaxPool2D, AvgPool2D, GlobalAvgPool2D, UpSampling2D, BatchNormalization\n",
    "from keras.layers import Concatenate, Add, Dropout, ReLU, Lambda, Activation, LeakyReLU, PReLU\n",
    "\n",
    "#from IPython.display import SVG\n",
    "#from keras.utils.vis_utils import model_to_dot\n",
    "\n",
    "from time import time\n",
    "import numpy as np"
   ]
  },
  {
   "cell_type": "code",
   "execution_count": null,
   "metadata": {},
   "outputs": [],
   "source": [
    "from keras.models import Sequential"
   ]
  },
  {
   "cell_type": "code",
   "execution_count": null,
   "metadata": {},
   "outputs": [],
   "source": [
    "import cv2\n",
    "import matplotlib.pyplot as plt"
   ]
  },
  {
   "cell_type": "code",
   "execution_count": null,
   "metadata": {},
   "outputs": [],
   "source": [
    "import tensorflow as tf"
   ]
  },
  {
   "cell_type": "code",
   "execution_count": null,
   "metadata": {},
   "outputs": [],
   "source": [
    "\n",
    "file='C:/Users/lenovo/Documents/malaria'\n",
    "categories=['tulip','sunflower','rose flower']"
   ]
  },
  {
   "cell_type": "code",
   "execution_count": null,
   "metadata": {},
   "outputs": [],
   "source": [
    "for category in categories:\n",
    "  path=os.path.join(file,category)\n",
    "  for img in os.listdir(path):\n",
    "    img_array=cv2.imread(os.path.join(path,img))\n",
    "    #plt.imshow(np.array(img_array,'float32'))\n",
    "    #plt.show()\n",
    "    break\n",
    "  break"
   ]
  },
  {
   "cell_type": "code",
   "execution_count": null,
   "metadata": {},
   "outputs": [],
   "source": [
    "for category in categories:\n",
    "    path=os.path.join(file,category)\n",
    "    for img in os.listdir(path):\n",
    "        img_array1=cv2.imread(os.path.join(path,img))\n",
    "        #plt.imshow(img_array1,cmap='gray')\n",
    "        #plt.show()\n",
    "        break\n",
    "    break"
   ]
  },
  {
   "cell_type": "code",
   "execution_count": null,
   "metadata": {},
   "outputs": [],
   "source": [
    "training_data = []\n",
    "for category in categories:  # do dogs and cats\n",
    "  path = os.path.join(file,category)  # create path to dogs and cats\n",
    "  class_num = category.index(category)  # get the classification  (0 or a 1). 0=dog 1=cat\n",
    "  for img in (os.listdir(path)):  # iterate over each image per dogs and cats\n",
    "    try:\n",
    "      img_array = cv2.imread(os.path.join(path,img) ,cv2.IMREAD_GRAYSCALE)  # convert to array\n",
    "      new_array = cv2.resize(img_array, (50,50))  # resize to normalize data size\n",
    "      training_data.append([new_array, class_num])  # add this to our training_data\n",
    "    except Exception as e:  # in the interest in keeping the output clean...\n",
    "      pass\n",
    "            #except OSError as e:\n",
    "            #    print(\"OSErrroBad img most likely\", e, os.path.join(path,img))\n",
    "            #except Exception as e:\n",
    "            #    print(\"general exception\", e, os.path.join(path,img))"
   ]
  },
  {
   "cell_type": "code",
   "execution_count": null,
   "metadata": {},
   "outputs": [],
   "source": [
    "import random\n",
    "random.shuffle(training_data)"
   ]
  },
  {
   "cell_type": "code",
   "execution_count": null,
   "metadata": {},
   "outputs": [],
   "source": [
    "X1 = []\n",
    "y1 = []"
   ]
  },
  {
   "cell_type": "code",
   "execution_count": null,
   "metadata": {},
   "outputs": [],
   "source": [
    "for features,label in training_data:\n",
    "    X1.append(features)\n",
    "    y1.append(label)\n",
    "#print(X1[0].reshape(-1, IMG_SIZE, IMG_SIZE, 1))\n",
    "\n",
    "X2 = np.array(X1).reshape(-1, 50,50, 1)"
   ]
  },
  {
   "cell_type": "code",
   "execution_count": null,
   "metadata": {},
   "outputs": [],
   "source": [
    "import pickle\n",
    "\n",
    "pickle_out = open(\"X3.pickle\",\"wb\")\n",
    "pickle.dump(X2, pickle_out)\n",
    "pickle_out.close()\n",
    "\n",
    "pickle_out = open(\"y2.pickle\",\"wb\")\n",
    "pickle.dump(y1, pickle_out)\n",
    "pickle_out.close()"
   ]
  },
  {
   "cell_type": "code",
   "execution_count": null,
   "metadata": {},
   "outputs": [],
   "source": [
    "pickle_in = open(\"X3.pickle\",\"rb\")\n",
    "X4 = pickle.load(pickle_in)\n",
    "\n",
    "pickle_in = open(\"y2.pickle\",\"rb\")\n",
    "y3 = pickle.load(pickle_in)\n",
    "X5 = X4/255.0"
   ]
  },
  {
   "cell_type": "code",
   "execution_count": null,
   "metadata": {},
   "outputs": [],
   "source": [
    "ip=np.array(X5)"
   ]
  },
  {
   "cell_type": "code",
   "execution_count": null,
   "metadata": {},
   "outputs": [],
   "source": [
    "target=np.array(y3)"
   ]
  },
  {
   "cell_type": "code",
   "execution_count": null,
   "metadata": {},
   "outputs": [],
   "source": [
    "mode = Sequential()\n",
    "mode.add(Conv2D(32, kernel_size=3, activation='relu', strides=2,input_shape=ip.shape[1:]))\n",
    "mode.add(BatchNormalization())\n",
    "mode.add(DepthwiseConv2D(32, strides=1, padding='same',activation='relu'))\n",
    "mode.add(BatchNormalization())\n",
    "mode.add(Conv2D(64, kernel_size=3, activation='relu', strides=2))\n",
    "mode.add(BatchNormalization())\n",
    "mode.add(DepthwiseConv2D(64, strides=1, padding='same',activation='relu'))\n",
    "mode.add(BatchNormalization())\n",
    "mode.add(Conv2D(64, kernel_size=3, activation='relu'))\n",
    "mode.add(BatchNormalization())\n",
    "mode.add(DepthwiseConv2D(64, strides=2, padding='same',activation='relu'))\n",
    "mode.add(BatchNormalization())\n",
    "mode.add(Conv2D(128, kernel_size=3, activation='relu', strides=2))\n",
    "mode.add(BatchNormalization())\n",
    "mode.add(DepthwiseConv2D(128, strides=1, padding='same',activation='relu'))\n",
    "mode.add(BatchNormalization())\n",
    "mode.add(Conv2D(128, kernel_size=3, activation='relu'))\n",
    "mode.add(BatchNormalization())\n",
    "mode.add(DepthwiseConv2D(128, strides=2, padding='same',activation='relu'))\n",
    "mode.add(BatchNormalization())\n",
    "mode.add(Conv2D(256, kernel_size=3, activation='relu', strides=2,data_format='channels_first'))\n",
    "mode.add(BatchNormalization())\n",
    "mode.add(DepthwiseConv2D(256, strides=1, padding='same',activation='relu'))\n",
    "mode.add(BatchNormalization())\n",
    "mode.add(Conv2D(256, kernel_size=3, activation='relu'))\n",
    "mode.add(BatchNormalization())\n",
    "mode.add(DepthwiseConv2D(256, strides=2, padding='same',activation='relu'))\n",
    "mode.add(BatchNormalization())\n",
    "mode.add(Conv2D(512, kernel_size=3, activation='relu', strides=2))\n",
    "mode.add(BatchNormalization())\n",
    "mode.add(DepthwiseConv2D(512, strides=1, padding='same',activation='relu'))\n",
    "mode.add(BatchNormalization())\n",
    "mode.add(Conv2D(512, kernel_size=3, activation='relu'))\n",
    "mode.add(BatchNormalization())\n",
    "mode.add(DepthwiseConv2D(512, strides=1, padding='same',activation='relu'))\n",
    "mode.add(BatchNormalization())\n",
    "mode.add(Conv2D(512, kernel_size=3, activation='relu', strides=2))\n",
    "mode.add(BatchNormalization())\n",
    "mode.add(DepthwiseConv2D(512, strides=1, padding='same',activation='relu'))\n",
    "mode.add(BatchNormalization())\n",
    "mode.add(Conv2D(512, kernel_size=3, activation='relu', strides=2))\n",
    "mode.add(BatchNormalization())\n",
    "mode.add(DepthwiseConv2D(512, strides=1, padding='same',activation='relu'))\n",
    "mode.add(BatchNormalization())\n",
    "mode.add(Conv2D(512, kernel_size=3, activation='relu', strides=2))\n",
    "mode.add(BatchNormalization())\n",
    "mode.add(DepthwiseConv2D(512, strides=1, padding='same',activation='relu'))\n",
    "mode.add(BatchNormalization())\n",
    "model.add(Conv2D(1024, kernel_size=3, activation='relu', strides=2))\n",
    "mode.add(BatchNormalization())\n",
    "mode.add(DepthwiseConv2D(1024, strides=1, padding='same',activation='relu'))\n",
    "mode.add(BatchNormalization())\n",
    "mode.add(Conv2D(1024, kernel_size=3, activation='relu'))\n",
    "mode.add(BatchNormalization())\n",
    "mode.add(GlobalAvgPool2D())\n",
    "mode.add(Flatten())\n",
    "mode.add(Dense(3, activation='softmax'))"
   ]
  },
  {
   "cell_type": "code",
   "execution_count": null,
   "metadata": {},
   "outputs": [],
   "source": [
    "mode.compile(loss='sparse_categorical_crossentropy',\n",
    "              optimizer='adam',\n",
    "              metrics=['accuracy'])"
   ]
  },
  {
   "cell_type": "code",
   "execution_count": null,
   "metadata": {},
   "outputs": [],
   "source": [
    "mode.fit(ip,y3,epochs=10)"
   ]
  },
  {
   "cell_type": "code",
   "execution_count": null,
   "metadata": {},
   "outputs": [],
   "source": [
    "img_array = cv2.imread('download ball.jpg' ,cv2.IMREAD_GRAYSCALE)  \n",
    "new_array = cv2.resize(img_array, (50,50))"
   ]
  },
  {
   "cell_type": "code",
   "execution_count": null,
   "metadata": {},
   "outputs": [],
   "source": [
    "g=np.array(new_array).reshape(1,50,50,1)"
   ]
  },
  {
   "cell_type": "code",
   "execution_count": null,
   "metadata": {},
   "outputs": [],
   "source": [
    "prob=mode.predict(g)\n",
    "prob"
   ]
  },
  {
   "cell_type": "code",
   "execution_count": null,
   "metadata": {},
   "outputs": [],
   "source": [
    "number_to_class=['tulip','sunflower','rose flower']\n",
    "sorti=np.argmax(prob)\n",
    "print('most likely class:',number_to_class[sorti])\n",
    "from sklearn.metrics import accuracy_score\n",
    "accuracy=accuracy_score(prob,accu)\n"
   ]
  }
 ],
 "metadata": {
  "kernelspec": {
   "display_name": "Python 3",
   "language": "python",
   "name": "python3"
  },
  "language_info": {
   "codemirror_mode": {
    "name": "ipython",
    "version": 3
   },
   "file_extension": ".py",
   "mimetype": "text/x-python",
   "name": "python",
   "nbconvert_exporter": "python",
   "pygments_lexer": "ipython3",
   "version": "3.7.3"
  }
 },
 "nbformat": 4,
 "nbformat_minor": 2
}
